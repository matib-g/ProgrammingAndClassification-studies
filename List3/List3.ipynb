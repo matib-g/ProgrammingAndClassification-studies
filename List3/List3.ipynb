{
 "cells": [
  {
   "cell_type": "code",
   "execution_count": 1,
   "metadata": {},
   "outputs": [
    {
     "name": "stdout",
     "output_type": "stream",
     "text": [
      "*** Introductory Examples for the NLTK Book ***\n",
      "Loading text1, ..., text9 and sent1, ..., sent9\n",
      "Type the name of the text or sentence to view it.\n",
      "Type: 'texts()' or 'sents()' to list the materials.\n",
      "text1: Moby Dick by Herman Melville 1851\n",
      "text2: Sense and Sensibility by Jane Austen 1811\n",
      "text3: The Book of Genesis\n",
      "text4: Inaugural Address Corpus\n",
      "text5: Chat Corpus\n",
      "text6: Monty Python and the Holy Grail\n",
      "text7: Wall Street Journal\n",
      "text8: Personals Corpus\n",
      "text9: The Man Who Was Thursday by G . K . Chesterton 1908\n"
     ]
    }
   ],
   "source": [
    "import nltk\n",
    "import numpy as np\n",
    "from nltk.book import *"
   ]
  },
  {
   "cell_type": "markdown",
   "metadata": {},
   "source": [
    "21. * For a given bitstring b list all bitstrings b’, such that the Hamming distance between\n",
    "b and b’ is equal 1."
   ]
  },
  {
   "cell_type": "code",
   "execution_count": 4,
   "metadata": {},
   "outputs": [],
   "source": [
    "def HammingDistance(strint1, string2):\n",
    "    if (len(string1) == len(string2)):\n",
    "        xor = 0\n",
    "        dist = 0\n",
    "        for i in range(len(string1)):\n",
    "            if (int(string1[i]) % int(string2[i]) == 1):\n",
    "                xor +=  1\n",
    "        return xor\n",
    "    else:\n",
    "        print(\"The number of characters in strings should be equal\")"
   ]
  },
  {
   "cell_type": "code",
   "execution_count": 6,
   "metadata": {},
   "outputs": [],
   "source": [
    "def HammingDistanceOne(string):\n",
    "    for i in range(len(string)):\n",
    "        if(string[i]=='0'):\n",
    "            yield string[0:i]+'1'+string[i+1:]\n",
    "        else:\n",
    "            yield string[0:i]+'0'+string[i+1:]"
   ]
  },
  {
   "cell_type": "code",
   "execution_count": 4,
   "metadata": {},
   "outputs": [
    {
     "data": {
      "text/plain": [
       "['00101', '11101', '10001', '10111', '10100']"
      ]
     },
     "execution_count": 4,
     "metadata": {},
     "output_type": "execute_result"
    }
   ],
   "source": [
    "list(HammingDistanceOne('10101'))"
   ]
  },
  {
   "cell_type": "markdown",
   "metadata": {},
   "source": [
    "22. * Construct a function that returns a Jaccard similarity for two sets. Beware that this\n",
    "function needs to check if at least one of the sets is nonempty."
   ]
  },
  {
   "cell_type": "code",
   "execution_count": 14,
   "metadata": {},
   "outputs": [],
   "source": [
    "def JaccardSimilarity(string1,string2):\n",
    "    com = len(set(string1)&set(string2))\n",
    "    summ = len (set(string1)|set(string2))\n",
    "    if (summ == 0):\n",
    "        print(\"Empty sets!\")\n",
    "    else:\n",
    "        return com/summ"
   ]
  },
  {
   "cell_type": "code",
   "execution_count": 16,
   "metadata": {},
   "outputs": [
    {
     "data": {
      "text/plain": [
       "0.2"
      ]
     },
     "execution_count": 16,
     "metadata": {},
     "output_type": "execute_result"
    }
   ],
   "source": [
    "string1 = 'xyz'\n",
    "string2 = 'zab'\n",
    "JaccardSimilarity(string1,string2)"
   ]
  },
  {
   "cell_type": "markdown",
   "metadata": {},
   "source": [
    "23. * Construct a function that computes Jaccard similarity for two strings treated as bags\n",
    "of words."
   ]
  },
  {
   "cell_type": "code",
   "execution_count": 5,
   "metadata": {},
   "outputs": [],
   "source": [
    "def StringToBags(string):\n",
    "    bags = {}\n",
    "    for i in string:\n",
    "        if i in bags:\n",
    "            bags[i] += 1\n",
    "        else:\n",
    "            bags[i] = 1\n",
    "    return bags"
   ]
  },
  {
   "cell_type": "code",
   "execution_count": 6,
   "metadata": {},
   "outputs": [],
   "source": [
    "def BagCom (b1,b2):\n",
    "    bagCom = 0\n",
    "    for i in b1:\n",
    "        if i in b2:\n",
    "            bagCom += min(b1[i], b2[i])\n",
    "    return bagCom"
   ]
  },
  {
   "cell_type": "code",
   "execution_count": 15,
   "metadata": {},
   "outputs": [],
   "source": [
    "def BagSumm(b1,b2):\n",
    "    return sum(b1.values()) + sum(b2.values()) - BagCom(b1,b2)"
   ]
  },
  {
   "cell_type": "code",
   "execution_count": 16,
   "metadata": {},
   "outputs": [],
   "source": [
    "def JaccardSimilarityAsBags(string1,string2):\n",
    "    bags1 = StringToBags(string1)\n",
    "    bags2 = StringToBags(string2)\n",
    "    if (BagSumm(bags1,bags2) != 0):\n",
    "        return BagCom(bags1,bags2)/BagSumm(bags1,bags2)\n",
    "    else:\n",
    "        print(\"Invalid argument!\")"
   ]
  },
  {
   "cell_type": "code",
   "execution_count": 17,
   "metadata": {},
   "outputs": [
    {
     "data": {
      "text/plain": [
       "0.2"
      ]
     },
     "execution_count": 17,
     "metadata": {},
     "output_type": "execute_result"
    }
   ],
   "source": [
    "JaccardSimilarityAsBags('xyz', 'zab')"
   ]
  },
  {
   "cell_type": "markdown",
   "metadata": {},
   "source": []
  }
 ],
 "metadata": {
  "kernelspec": {
   "display_name": "Python 3",
   "language": "python",
   "name": "python3"
  },
  "language_info": {
   "codemirror_mode": {
    "name": "ipython",
    "version": 3
   },
   "file_extension": ".py",
   "mimetype": "text/x-python",
   "name": "python",
   "nbconvert_exporter": "python",
   "pygments_lexer": "ipython3",
   "version": "3.8.5"
  }
 },
 "nbformat": 4,
 "nbformat_minor": 4
}
