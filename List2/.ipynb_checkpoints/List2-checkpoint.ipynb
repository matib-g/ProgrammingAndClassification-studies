{
 "cells": [
  {
   "cell_type": "code",
   "execution_count": 1,
   "metadata": {},
   "outputs": [],
   "source": [
    "import nltk\n",
    "import string"
   ]
  },
  {
   "cell_type": "markdown",
   "metadata": {},
   "source": [
    "12. Implement a Cesar cipher using with a given shift parameter d in Python. Use functions translate() and maketrans()"
   ]
  },
  {
   "cell_type": "code",
   "execution_count": 2,
   "metadata": {},
   "outputs": [],
   "source": [
    "def cesar(ptext, d):\n",
    "    alphabet = string.ascii_lowercase\n",
    "    shifted_alphabet = alphabet[d:] + alphabet[:d]\n",
    "    return ptext.translate(ptext.maketrans(alphabet, shifted_alphabet))"
   ]
  },
  {
   "cell_type": "code",
   "execution_count": 3,
   "metadata": {},
   "outputs": [
    {
     "name": "stdout",
     "output_type": "stream",
     "text": [
      "Ipsohphqw d Chvdu flskhu xvlqj zlwk d jlyhq vkliw sdudphwhu g lq Pbwkrq\n"
     ]
    }
   ],
   "source": [
    "d = 3\n",
    "text = 'Implement a Cesar cipher using with a given shift parameter d in Python'\n",
    "m = cesar(text, d)\n",
    "print(m)"
   ]
  },
  {
   "cell_type": "code",
   "execution_count": 4,
   "metadata": {},
   "outputs": [
    {
     "data": {
      "text/plain": [
       "'Implement a Cesar cipher using with a given shift parameter d in Python'"
      ]
     },
     "execution_count": 4,
     "metadata": {},
     "output_type": "execute_result"
    }
   ],
   "source": [
    "cesar(m,26-d)"
   ]
  },
  {
   "cell_type": "markdown",
   "metadata": {},
   "source": [
    "13. *** Find your favourite book in text format (if you cannot find it, try e.g. Heller’s\n",
    "Catch 22)."
   ]
  },
  {
   "cell_type": "code",
   "execution_count": 5,
   "metadata": {},
   "outputs": [],
   "source": [
    "fName = 'Catch-22.txt'\n",
    "with open(fName, 'r') as f:\n",
    "    fileText = f.read()"
   ]
  },
  {
   "cell_type": "markdown",
   "metadata": {},
   "source": [
    "(a) Remove all the punctuation."
   ]
  },
  {
   "cell_type": "code",
   "execution_count": 6,
   "metadata": {},
   "outputs": [
    {
     "data": {
      "text/plain": [
       "'\\n\\n\\nJoseph Heller\\n\\nCatch22\\n\\n\\nThe island of Pianosa lies in the Mediterranean Sea eight miles south of Elba It is very small and obviously could not accommodate all of the actions described Like the setting of this novel the characters too are fictitious\\n\\n\\n\\nTO MY MOTHER\\nAND TO SHIRLEY\\nAND MY CHILDREN\\nERICA AND TED\\n\\n\\n\\n\\n\\n1 THE TEXAN\\n\\nIt was love at first sight\\nThe first time Yossarian saw the chaplain he fell madly in love with him\\nYossarian was in the hospital with a pain in his liver that fell just short of being jaundice The doctors were puzzled by the fact that it wasn’t quite jaundice If it became jaundice they could treat it If it didn’t become jaundice and went away they could discharge him But this just being short of jaundice all the time confused them\\nEach morning they came around three brisk and serious men with efficient mouths and inefficient eyes accompanied by brisk and serious Nurse Duckett one of the ward nurses who didn’t like Yossarian They read the chart at the foot of '"
      ]
     },
     "execution_count": 6,
     "metadata": {},
     "output_type": "execute_result"
    }
   ],
   "source": [
    "aName = 'Catch-22_a.txt'\n",
    "a = open(aName, 'a')\n",
    "aTrans = fileText.maketrans(dict.fromkeys(string.punctuation))\n",
    "aWrite = fileText.translate(aTrans)\n",
    "\n",
    "a.write(aWrite)\n",
    "a.close()\n",
    "aWrite[0:1000]"
   ]
  },
  {
   "cell_type": "markdown",
   "metadata": {},
   "source": [
    "(b) Remove all stop words."
   ]
  },
  {
   "cell_type": "code",
   "execution_count": null,
   "metadata": {},
   "outputs": [],
   "source": [
    "from nltk.corpus import stopwords\n",
    "#nltk.download('stopwords')\n",
    "\n",
    "bName = 'Catch-22_b.txt'\n",
    "b = open(bName, 'a')\n",
    "\n",
    "words = nltk.word_tokenize(fileText)\n",
    "tokensWithoutSW = [word for word in words if not word in stopwords.words('english')]\n",
    "\n",
    "b.write(tokensWithoutSW)\n",
    "b.close()\n",
    "tokensWithoutSW[0:1000]"
   ]
  },
  {
   "cell_type": "code",
   "execution_count": null,
   "metadata": {},
   "outputs": [],
   "source": []
  },
  {
   "cell_type": "code",
   "execution_count": null,
   "metadata": {},
   "outputs": [],
   "source": []
  },
  {
   "cell_type": "code",
   "execution_count": null,
   "metadata": {},
   "outputs": [],
   "source": []
  }
 ],
 "metadata": {
  "kernelspec": {
   "display_name": "Python 3",
   "language": "python",
   "name": "python3"
  },
  "language_info": {
   "codemirror_mode": {
    "name": "ipython",
    "version": 3
   },
   "file_extension": ".py",
   "mimetype": "text/x-python",
   "name": "python",
   "nbconvert_exporter": "python",
   "pygments_lexer": "ipython3",
   "version": "3.8.5"
  }
 },
 "nbformat": 4,
 "nbformat_minor": 4
}
